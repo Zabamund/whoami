{
 "cells": [
  {
   "cell_type": "markdown",
   "metadata": {},
   "source": [
    "# Interactive fracture analysis"
   ]
  },
  {
   "cell_type": "code",
   "execution_count": 1,
   "metadata": {},
   "outputs": [],
   "source": [
    "import pandas as pd\n",
    "%matplotlib inline\n",
    "import matplotlib.pyplot as plt\n",
    "import seaborn as sns"
   ]
  },
  {
   "cell_type": "code",
   "execution_count": 2,
   "metadata": {},
   "outputs": [],
   "source": [
    "from ipywidgets import interact\n",
    "import ipywidgets as widgets"
   ]
  },
  {
   "cell_type": "code",
   "execution_count": 3,
   "metadata": {},
   "outputs": [],
   "source": [
    "import mplstereonet as mpl"
   ]
  },
  {
   "cell_type": "code",
   "execution_count": 4,
   "metadata": {},
   "outputs": [],
   "source": [
    "from mpl_toolkits.axes_grid1.inset_locator import inset_axes"
   ]
  },
  {
   "cell_type": "markdown",
   "metadata": {},
   "source": [
    "## Import fracture data using Pandas"
   ]
  },
  {
   "cell_type": "code",
   "execution_count": 5,
   "metadata": {},
   "outputs": [
    {
     "data": {
      "text/html": [
       "<div>\n",
       "<style scoped>\n",
       "    .dataframe tbody tr th:only-of-type {\n",
       "        vertical-align: middle;\n",
       "    }\n",
       "\n",
       "    .dataframe tbody tr th {\n",
       "        vertical-align: top;\n",
       "    }\n",
       "\n",
       "    .dataframe thead th {\n",
       "        text-align: right;\n",
       "    }\n",
       "</style>\n",
       "<table border=\"1\" class=\"dataframe\">\n",
       "  <thead>\n",
       "    <tr style=\"text-align: right;\">\n",
       "      <th></th>\n",
       "      <th>#DEPTH</th>\n",
       "      <th>DIP</th>\n",
       "      <th>AZIM</th>\n",
       "      <th>QUAL</th>\n",
       "      <th>DEVI</th>\n",
       "      <th>HAZI</th>\n",
       "      <th>AAZI</th>\n",
       "      <th>ADIP</th>\n",
       "      <th>DIPTYPE</th>\n",
       "    </tr>\n",
       "  </thead>\n",
       "  <tbody>\n",
       "    <tr>\n",
       "      <th>0</th>\n",
       "      <td>1886.85</td>\n",
       "      <td>5.5</td>\n",
       "      <td>321.8</td>\n",
       "      <td>1.0</td>\n",
       "      <td>30.9</td>\n",
       "      <td>262.4</td>\n",
       "      <td>270.8</td>\n",
       "      <td>34.0</td>\n",
       "      <td>BED</td>\n",
       "    </tr>\n",
       "    <tr>\n",
       "      <th>1</th>\n",
       "      <td>1887.40</td>\n",
       "      <td>12.9</td>\n",
       "      <td>329.4</td>\n",
       "      <td>1.0</td>\n",
       "      <td>30.8</td>\n",
       "      <td>257.0</td>\n",
       "      <td>277.8</td>\n",
       "      <td>36.6</td>\n",
       "      <td>BED</td>\n",
       "    </tr>\n",
       "    <tr>\n",
       "      <th>2</th>\n",
       "      <td>1887.97</td>\n",
       "      <td>6.7</td>\n",
       "      <td>326.7</td>\n",
       "      <td>1.0</td>\n",
       "      <td>30.9</td>\n",
       "      <td>255.0</td>\n",
       "      <td>266.5</td>\n",
       "      <td>33.5</td>\n",
       "      <td>BED</td>\n",
       "    </tr>\n",
       "    <tr>\n",
       "      <th>3</th>\n",
       "      <td>1888.53</td>\n",
       "      <td>10.5</td>\n",
       "      <td>320.5</td>\n",
       "      <td>1.0</td>\n",
       "      <td>30.8</td>\n",
       "      <td>263.3</td>\n",
       "      <td>277.8</td>\n",
       "      <td>37.4</td>\n",
       "      <td>BED</td>\n",
       "    </tr>\n",
       "    <tr>\n",
       "      <th>4</th>\n",
       "      <td>1889.34</td>\n",
       "      <td>6.7</td>\n",
       "      <td>336.3</td>\n",
       "      <td>1.0</td>\n",
       "      <td>30.8</td>\n",
       "      <td>298.0</td>\n",
       "      <td>305.0</td>\n",
       "      <td>36.3</td>\n",
       "      <td>BED</td>\n",
       "    </tr>\n",
       "  </tbody>\n",
       "</table>\n",
       "</div>"
      ],
      "text/plain": [
       "    #DEPTH   DIP   AZIM  QUAL  DEVI   HAZI   AAZI  ADIP DIPTYPE\n",
       "0  1886.85   5.5  321.8   1.0  30.9  262.4  270.8  34.0     BED\n",
       "1  1887.40  12.9  329.4   1.0  30.8  257.0  277.8  36.6     BED\n",
       "2  1887.97   6.7  326.7   1.0  30.9  255.0  266.5  33.5     BED\n",
       "3  1888.53  10.5  320.5   1.0  30.8  263.3  277.8  37.4     BED\n",
       "4  1889.34   6.7  336.3   1.0  30.8  298.0  305.0  36.3     BED"
      ]
     },
     "execution_count": 5,
     "metadata": {},
     "output_type": "execute_result"
    }
   ],
   "source": [
    "df = pd.read_csv('../data/image_data.csv', index_col='Unnamed: 0')\n",
    "df.head()"
   ]
  },
  {
   "cell_type": "code",
   "execution_count": 6,
   "metadata": {},
   "outputs": [
    {
     "data": {
      "text/plain": [
       "(822, 9)"
      ]
     },
     "execution_count": 6,
     "metadata": {},
     "output_type": "execute_result"
    }
   ],
   "source": [
    "df.shape"
   ]
  },
  {
   "cell_type": "code",
   "execution_count": 7,
   "metadata": {},
   "outputs": [
    {
     "data": {
      "text/html": [
       "<div>\n",
       "<style scoped>\n",
       "    .dataframe tbody tr th:only-of-type {\n",
       "        vertical-align: middle;\n",
       "    }\n",
       "\n",
       "    .dataframe tbody tr th {\n",
       "        vertical-align: top;\n",
       "    }\n",
       "\n",
       "    .dataframe thead th {\n",
       "        text-align: right;\n",
       "    }\n",
       "</style>\n",
       "<table border=\"1\" class=\"dataframe\">\n",
       "  <thead>\n",
       "    <tr style=\"text-align: right;\">\n",
       "      <th></th>\n",
       "      <th>#DEPTH</th>\n",
       "      <th>DIP</th>\n",
       "      <th>AZIM</th>\n",
       "      <th>QUAL</th>\n",
       "      <th>DEVI</th>\n",
       "      <th>HAZI</th>\n",
       "      <th>AAZI</th>\n",
       "      <th>ADIP</th>\n",
       "    </tr>\n",
       "  </thead>\n",
       "  <tbody>\n",
       "    <tr>\n",
       "      <th>count</th>\n",
       "      <td>822.000000</td>\n",
       "      <td>822.000000</td>\n",
       "      <td>822.000000</td>\n",
       "      <td>822.000000</td>\n",
       "      <td>822.000000</td>\n",
       "      <td>822.000000</td>\n",
       "      <td>822.000000</td>\n",
       "      <td>822.000000</td>\n",
       "    </tr>\n",
       "    <tr>\n",
       "      <th>mean</th>\n",
       "      <td>2049.611095</td>\n",
       "      <td>22.452676</td>\n",
       "      <td>196.368856</td>\n",
       "      <td>0.760341</td>\n",
       "      <td>34.573601</td>\n",
       "      <td>298.962287</td>\n",
       "      <td>263.641606</td>\n",
       "      <td>40.852676</td>\n",
       "    </tr>\n",
       "    <tr>\n",
       "      <th>std</th>\n",
       "      <td>108.631076</td>\n",
       "      <td>31.926174</td>\n",
       "      <td>123.925011</td>\n",
       "      <td>0.249938</td>\n",
       "      <td>1.793871</td>\n",
       "      <td>3.754142</td>\n",
       "      <td>77.733593</td>\n",
       "      <td>10.978759</td>\n",
       "    </tr>\n",
       "    <tr>\n",
       "      <th>min</th>\n",
       "      <td>1886.850000</td>\n",
       "      <td>0.400000</td>\n",
       "      <td>0.100000</td>\n",
       "      <td>0.500000</td>\n",
       "      <td>30.800000</td>\n",
       "      <td>255.000000</td>\n",
       "      <td>6.700000</td>\n",
       "      <td>19.800000</td>\n",
       "    </tr>\n",
       "    <tr>\n",
       "      <th>25%</th>\n",
       "      <td>1955.320000</td>\n",
       "      <td>3.325000</td>\n",
       "      <td>89.975000</td>\n",
       "      <td>0.500000</td>\n",
       "      <td>32.900000</td>\n",
       "      <td>298.400000</td>\n",
       "      <td>291.525000</td>\n",
       "      <td>33.600000</td>\n",
       "    </tr>\n",
       "    <tr>\n",
       "      <th>50%</th>\n",
       "      <td>2021.365000</td>\n",
       "      <td>5.800000</td>\n",
       "      <td>189.350000</td>\n",
       "      <td>1.000000</td>\n",
       "      <td>35.400000</td>\n",
       "      <td>298.950000</td>\n",
       "      <td>301.600000</td>\n",
       "      <td>38.650000</td>\n",
       "    </tr>\n",
       "    <tr>\n",
       "      <th>75%</th>\n",
       "      <td>2149.080000</td>\n",
       "      <td>13.400000</td>\n",
       "      <td>320.450000</td>\n",
       "      <td>1.000000</td>\n",
       "      <td>36.100000</td>\n",
       "      <td>300.300000</td>\n",
       "      <td>305.800000</td>\n",
       "      <td>44.700000</td>\n",
       "    </tr>\n",
       "    <tr>\n",
       "      <th>max</th>\n",
       "      <td>2261.650000</td>\n",
       "      <td>90.000000</td>\n",
       "      <td>359.700000</td>\n",
       "      <td>1.000000</td>\n",
       "      <td>36.500000</td>\n",
       "      <td>306.900000</td>\n",
       "      <td>355.700000</td>\n",
       "      <td>90.000000</td>\n",
       "    </tr>\n",
       "  </tbody>\n",
       "</table>\n",
       "</div>"
      ],
      "text/plain": [
       "            #DEPTH         DIP        AZIM        QUAL        DEVI  \\\n",
       "count   822.000000  822.000000  822.000000  822.000000  822.000000   \n",
       "mean   2049.611095   22.452676  196.368856    0.760341   34.573601   \n",
       "std     108.631076   31.926174  123.925011    0.249938    1.793871   \n",
       "min    1886.850000    0.400000    0.100000    0.500000   30.800000   \n",
       "25%    1955.320000    3.325000   89.975000    0.500000   32.900000   \n",
       "50%    2021.365000    5.800000  189.350000    1.000000   35.400000   \n",
       "75%    2149.080000   13.400000  320.450000    1.000000   36.100000   \n",
       "max    2261.650000   90.000000  359.700000    1.000000   36.500000   \n",
       "\n",
       "             HAZI        AAZI        ADIP  \n",
       "count  822.000000  822.000000  822.000000  \n",
       "mean   298.962287  263.641606   40.852676  \n",
       "std      3.754142   77.733593   10.978759  \n",
       "min    255.000000    6.700000   19.800000  \n",
       "25%    298.400000  291.525000   33.600000  \n",
       "50%    298.950000  301.600000   38.650000  \n",
       "75%    300.300000  305.800000   44.700000  \n",
       "max    306.900000  355.700000   90.000000  "
      ]
     },
     "execution_count": 7,
     "metadata": {},
     "output_type": "execute_result"
    }
   ],
   "source": [
    "df.describe()"
   ]
  },
  {
   "cell_type": "markdown",
   "metadata": {},
   "source": [
    "## Inspect fracture data with matplotlib/seaborn"
   ]
  },
  {
   "cell_type": "code",
   "execution_count": 8,
   "metadata": {},
   "outputs": [
    {
     "data": {
      "text/plain": [
       "Index(['#DEPTH', 'DIP', 'AZIM', 'QUAL', 'DEVI', 'HAZI', 'AAZI', 'ADIP',\n",
       "       'DIPTYPE'],\n",
       "      dtype='object')"
      ]
     },
     "execution_count": 8,
     "metadata": {},
     "output_type": "execute_result"
    }
   ],
   "source": [
    "df.columns"
   ]
  },
  {
   "cell_type": "code",
   "execution_count": 9,
   "metadata": {},
   "outputs": [
    {
     "data": {
      "image/png": "[encoded data removed]",
      "text/plain": [
       "<Figure size 561x432 with 6 Axes>"
      ]
     },
     "metadata": {
      "needs_background": "light"
     },
     "output_type": "display_data"
    }
   ],
   "source": [
    "sns.pairplot(data=df, \n",
    "             vars=['DIP', 'AZIM'],\n",
    "             hue='DIPTYPE',\n",
    "             palette='colorblind',\n",
    "             markers=['x','o','v','^','s','p'],\n",
    "             height=3\n",
    "            )\n",
    "plt.show()"
   ]
  },
  {
   "cell_type": "markdown",
   "metadata": {},
   "source": [
    "## Inspect fracture data with interactive mplstereonet"
   ]
  },
  {
   "cell_type": "code",
   "execution_count": 10,
   "metadata": {},
   "outputs": [
    {
     "data": {
      "application/vnd.jupyter.widget-view+json": {
       "model_id": "c09a4e6b1b024f5d85c5a31033a635d7",
       "version_major": 2,
       "version_minor": 0
      },
      "text/plain": [
       "interactive(children=(Dropdown(description='diptype', options=('FRACTURE', 'HEALEDFRACTURE', 'DRILL.IND.FRAC.'…"
      ]
     },
     "metadata": {},
     "output_type": "display_data"
    }
   ],
   "source": [
    "@interact(diptype=['FRACTURE', 'HEALEDFRACTURE', 'DRILL.IND.FRAC.', 'BREAKOUT', 'BED', 'BED_LOW_CONF'],\n",
    "          alpha=widgets.FloatSlider(min=0, max=1, step=0.05, continuous_update=False), \n",
    "          poles=False,\n",
    "          show_mean=False,\n",
    "          density=False,\n",
    "         )\n",
    "def plot_data(diptype, alpha, poles, show_mean, density):\n",
    "    \"\"\"\n",
    "    plot a stereonet of image data\n",
    "    args:\n",
    "        diptype, alpha, poles, show_mean, density\n",
    "    returns:\n",
    "        None\n",
    "    \"\"\"\n",
    "    # set up the plot\n",
    "    fig, ax = mpl.subplots(figsize=(6,6), ncols=1, nrows=1)\n",
    "\n",
    "    # get data\n",
    "    strike, dip = df.AZIM.loc[df['DIPTYPE'] == diptype], df.DIP.loc[df['DIPTYPE'] == diptype]\n",
    "    \n",
    "    # great circles\n",
    "    ax.plane(strike, dip, 'g-', linewidth=1, alpha=alpha)\n",
    "    \n",
    "    # plot decoration\n",
    "    ax.grid(color='k', alpha=0.2)\n",
    "    data_count = strike.count()\n",
    "    mean_azim = strike.mean()\n",
    "    mean_dip = dip.mean()\n",
    "    ax.text(0, 10, f'N points: {data_count}\\nmean Azim: {mean_azim:.1f}\\nmean Dip: {mean_dip:.1f}')\n",
    "    \n",
    "    # options\n",
    "    if poles:\n",
    "        ax.pole(strike, dip, 'kx', markersize=3, alpha=1)\n",
    "    \n",
    "    if show_mean:\n",
    "        ax.plane(mean_azim, mean_dip, 'r--', lw=3, alpha=0.7)\n",
    "        ax.pole(mean_azim, mean_dip, 'rs', markersize=5, alpha=0.7)\n",
    "\n",
    "    if density:\n",
    "        im = ax.density_contourf(strike, dip, measurement='poles', alpha=0.3)\n",
    "        axins = inset_axes(ax,\n",
    "                   width=\"5%\",\n",
    "                   height=\"45%\",\n",
    "                   loc='lower left',\n",
    "                   bbox_to_anchor=(1.05, 0., 1, 1),\n",
    "                   bbox_transform=ax.transAxes,\n",
    "                   borderpad=0,\n",
    "                   )\n",
    "        cbar = fig.colorbar(im, cax=axins)\n",
    "        cbar.ax.get_yaxis().labelpad = 15\n",
    "        cbar.ax.set_ylabel('Orientation density distribution', rotation=90)\n",
    "\n",
    "    return None"
   ]
  },
  {
   "cell_type": "code",
   "execution_count": null,
   "metadata": {},
   "outputs": [],
   "source": []
  }
 ],
 "metadata": {
  "kernelspec": {
   "display_name": "mplstereo",
   "language": "python",
   "name": "mplstereo"
  },
  "language_info": {
   "codemirror_mode": {
    "name": "ipython",
    "version": 3
   },
   "file_extension": ".py",
   "mimetype": "text/x-python",
   "name": "python",
   "nbconvert_exporter": "python",
   "pygments_lexer": "ipython3",
   "version": "3.7.3"
  }
 },
 "nbformat": 4,
 "nbformat_minor": 2
}
